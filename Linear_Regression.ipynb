{
  "nbformat": 4,
  "nbformat_minor": 0,
  "metadata": {
    "colab": {
      "name": "Linear-Regression.ipynb",
      "provenance": [],
      "collapsed_sections": []
    },
    "kernelspec": {
      "name": "python3",
      "display_name": "Python 3"
    },
    "accelerator": "GPU"
  },
  "cells": [
    {
      "cell_type": "code",
      "metadata": {
        "id": "rqm0ZbRzkNV1",
        "colab_type": "code",
        "colab": {}
      },
      "source": [
        "import numpy as np        #Numpy provides fast mathematical function processing\n",
        "import matplotlib.pyplot as plt\n",
        "import pandas as pd       #Pandas is used for easy indexing and data collection tools\n",
        "import seaborn as sns     #import library to create a heatmap\n",
        "from sklearn.model_selection import train_test_split\n",
        "from sklearn.linear_model import LinearRegression \n",
        "from sklearn.svm import LinearSVC #Is used to fit to the data you provide, returning a \"best fit\" for regression/classification\n"
      ],
      "execution_count": 0,
      "outputs": []
    },
    {
      "cell_type": "code",
      "metadata": {
        "id": "zerEkB4ulAYh",
        "colab_type": "code",
        "outputId": "7f21f146-cce4-4231-8a66-9315f0297e85",
        "colab": {
          "base_uri": "https://localhost:8080/",
          "height": 34
        }
      },
      "source": [
        "student_scores = pd.read_csv(\"https://raw.githubusercontent.com/TERRENCE2019/DATASETS/master/student_scores.csv\")\n",
        "student_scores.shape "
      ],
      "execution_count": 0,
      "outputs": [
        {
          "output_type": "execute_result",
          "data": {
            "text/plain": [
              "(25, 2)"
            ]
          },
          "metadata": {
            "tags": []
          },
          "execution_count": 14
        }
      ]
    },
    {
      "cell_type": "code",
      "metadata": {
        "id": "6VyORERtluya",
        "colab_type": "code",
        "outputId": "044f63ec-effc-445a-c18e-777c83a6969d",
        "colab": {
          "base_uri": "https://localhost:8080/",
          "height": 343
        }
      },
      "source": [
        "student_scores.head(10)"
      ],
      "execution_count": 0,
      "outputs": [
        {
          "output_type": "execute_result",
          "data": {
            "text/html": [
              "<div>\n",
              "<style scoped>\n",
              "    .dataframe tbody tr th:only-of-type {\n",
              "        vertical-align: middle;\n",
              "    }\n",
              "\n",
              "    .dataframe tbody tr th {\n",
              "        vertical-align: top;\n",
              "    }\n",
              "\n",
              "    .dataframe thead th {\n",
              "        text-align: right;\n",
              "    }\n",
              "</style>\n",
              "<table border=\"1\" class=\"dataframe\">\n",
              "  <thead>\n",
              "    <tr style=\"text-align: right;\">\n",
              "      <th></th>\n",
              "      <th>Hours</th>\n",
              "      <th>Scores</th>\n",
              "    </tr>\n",
              "  </thead>\n",
              "  <tbody>\n",
              "    <tr>\n",
              "      <th>0</th>\n",
              "      <td>2.5</td>\n",
              "      <td>21</td>\n",
              "    </tr>\n",
              "    <tr>\n",
              "      <th>1</th>\n",
              "      <td>5.1</td>\n",
              "      <td>47</td>\n",
              "    </tr>\n",
              "    <tr>\n",
              "      <th>2</th>\n",
              "      <td>3.2</td>\n",
              "      <td>27</td>\n",
              "    </tr>\n",
              "    <tr>\n",
              "      <th>3</th>\n",
              "      <td>8.5</td>\n",
              "      <td>75</td>\n",
              "    </tr>\n",
              "    <tr>\n",
              "      <th>4</th>\n",
              "      <td>3.5</td>\n",
              "      <td>30</td>\n",
              "    </tr>\n",
              "    <tr>\n",
              "      <th>5</th>\n",
              "      <td>1.5</td>\n",
              "      <td>20</td>\n",
              "    </tr>\n",
              "    <tr>\n",
              "      <th>6</th>\n",
              "      <td>9.2</td>\n",
              "      <td>88</td>\n",
              "    </tr>\n",
              "    <tr>\n",
              "      <th>7</th>\n",
              "      <td>5.5</td>\n",
              "      <td>60</td>\n",
              "    </tr>\n",
              "    <tr>\n",
              "      <th>8</th>\n",
              "      <td>8.3</td>\n",
              "      <td>81</td>\n",
              "    </tr>\n",
              "    <tr>\n",
              "      <th>9</th>\n",
              "      <td>2.7</td>\n",
              "      <td>25</td>\n",
              "    </tr>\n",
              "  </tbody>\n",
              "</table>\n",
              "</div>"
            ],
            "text/plain": [
              "   Hours  Scores\n",
              "0    2.5      21\n",
              "1    5.1      47\n",
              "2    3.2      27\n",
              "3    8.5      75\n",
              "4    3.5      30\n",
              "5    1.5      20\n",
              "6    9.2      88\n",
              "7    5.5      60\n",
              "8    8.3      81\n",
              "9    2.7      25"
            ]
          },
          "metadata": {
            "tags": []
          },
          "execution_count": 3
        }
      ]
    },
    {
      "cell_type": "code",
      "metadata": {
        "id": "rxPu3qdml9Im",
        "colab_type": "code",
        "outputId": "0bbfbbde-056e-4a65-ba7e-f9888d544beb",
        "colab": {
          "base_uri": "https://localhost:8080/",
          "height": 284
        }
      },
      "source": [
        "# Mean tells us the average of the values in each column\n",
        "# Standard Deviation is the disparity between the each number and the mean\n",
        "# A low standard deviation means that most of the numbers are close to the average (mean)\n",
        "# A high standard deviation means that the numbers are more spread out\n",
        "student_scores.describe()"
      ],
      "execution_count": 0,
      "outputs": [
        {
          "output_type": "execute_result",
          "data": {
            "text/html": [
              "<div>\n",
              "<style scoped>\n",
              "    .dataframe tbody tr th:only-of-type {\n",
              "        vertical-align: middle;\n",
              "    }\n",
              "\n",
              "    .dataframe tbody tr th {\n",
              "        vertical-align: top;\n",
              "    }\n",
              "\n",
              "    .dataframe thead th {\n",
              "        text-align: right;\n",
              "    }\n",
              "</style>\n",
              "<table border=\"1\" class=\"dataframe\">\n",
              "  <thead>\n",
              "    <tr style=\"text-align: right;\">\n",
              "      <th></th>\n",
              "      <th>Hours</th>\n",
              "      <th>Scores</th>\n",
              "    </tr>\n",
              "  </thead>\n",
              "  <tbody>\n",
              "    <tr>\n",
              "      <th>count</th>\n",
              "      <td>25.000000</td>\n",
              "      <td>25.000000</td>\n",
              "    </tr>\n",
              "    <tr>\n",
              "      <th>mean</th>\n",
              "      <td>5.012000</td>\n",
              "      <td>51.480000</td>\n",
              "    </tr>\n",
              "    <tr>\n",
              "      <th>std</th>\n",
              "      <td>2.525094</td>\n",
              "      <td>25.286887</td>\n",
              "    </tr>\n",
              "    <tr>\n",
              "      <th>min</th>\n",
              "      <td>1.100000</td>\n",
              "      <td>17.000000</td>\n",
              "    </tr>\n",
              "    <tr>\n",
              "      <th>25%</th>\n",
              "      <td>2.700000</td>\n",
              "      <td>30.000000</td>\n",
              "    </tr>\n",
              "    <tr>\n",
              "      <th>50%</th>\n",
              "      <td>4.800000</td>\n",
              "      <td>47.000000</td>\n",
              "    </tr>\n",
              "    <tr>\n",
              "      <th>75%</th>\n",
              "      <td>7.400000</td>\n",
              "      <td>75.000000</td>\n",
              "    </tr>\n",
              "    <tr>\n",
              "      <th>max</th>\n",
              "      <td>9.200000</td>\n",
              "      <td>95.000000</td>\n",
              "    </tr>\n",
              "  </tbody>\n",
              "</table>\n",
              "</div>"
            ],
            "text/plain": [
              "           Hours     Scores\n",
              "count  25.000000  25.000000\n",
              "mean    5.012000  51.480000\n",
              "std     2.525094  25.286887\n",
              "min     1.100000  17.000000\n",
              "25%     2.700000  30.000000\n",
              "50%     4.800000  47.000000\n",
              "75%     7.400000  75.000000\n",
              "max     9.200000  95.000000"
            ]
          },
          "metadata": {
            "tags": []
          },
          "execution_count": 15
        }
      ]
    },
    {
      "cell_type": "code",
      "metadata": {
        "id": "KiBHVAo0mw99",
        "colab_type": "code",
        "outputId": "73b4ab26-9ffb-4b3b-a04a-4c1d551cbaed",
        "colab": {
          "base_uri": "https://localhost:8080/",
          "height": 295
        }
      },
      "source": [
        "# Let's create a simple scatter plot to see if a linear relationship exists before we do Machine Learning\n",
        "# This helps us phyiscally see the standard deviation from the overall linear slope or trend\n",
        "student_scores.plot(x='Hours', y='Scores', style='o')\n",
        "plt.title('Hours vs Score')\n",
        "plt.xlabel('Hours Studied')\n",
        "plt.ylabel('Score')\n",
        "plt.show()"
      ],
      "execution_count": 0,
      "outputs": [
        {
          "output_type": "display_data",
          "data": {
            "image/png": "[encoded data removed]",
            "text/plain": [
              "<Figure size 432x288 with 1 Axes>"
            ]
          },
          "metadata": {
            "tags": [],
            "needs_background": "light"
          }
        }
      ]
    },
    {
      "cell_type": "code",
      "metadata": {
        "id": "g-QhTNE1nmoD",
        "colab_type": "code",
        "colab": {
          "base_uri": "https://localhost:8080/",
          "height": 252
        },
        "outputId": "1f48cc45-ab22-406a-a087-38804731c637"
      },
      "source": [
        "# Now we divide the data into \"Attributes\" and \"Labels\"\n",
        "# Attributes are the independent variables (x axis)\n",
        "# Labels are the dependent variables whose values are to be predicted (y axis)\n",
        "# Now we want to predict the percentage score depending on the hours studied\n",
        "# iloc gets rows (or columns) at particular positions in the index\n",
        "# row selector and column selector\n",
        "# Even though we only have 2 columns this comes in handy with data with multiple columns\n",
        "x = student_scores.iloc[:,0:-1].values  # We want all the rows \":\" and all the columns, \"-1\" stands for to the end, \":\"\n",
        "y = student_scores.iloc[:, 1].values    # We want all the rows \":\" and just the second column as our (y axis = dependent variable = scores)"
      ],
      "execution_count": 1,
      "outputs": [
        {
          "output_type": "error",
          "ename": "NameError",
          "evalue": "ignored",
          "traceback": [
            "\u001b[0;31m---------------------------------------------------------------------------\u001b[0m",
            "\u001b[0;31mNameError\u001b[0m                                 Traceback (most recent call last)",
            "\u001b[0;32m<ipython-input-1-20b67303f130>\u001b[0m in \u001b[0;36m<module>\u001b[0;34m()\u001b[0m\n\u001b[1;32m      6\u001b[0m \u001b[0;31m# row selector and column selector\u001b[0m\u001b[0;34m\u001b[0m\u001b[0;34m\u001b[0m\u001b[0;34m\u001b[0m\u001b[0m\n\u001b[1;32m      7\u001b[0m \u001b[0;31m# Even though we only have 2 columns this comes in handy with data with multiple columns\u001b[0m\u001b[0;34m\u001b[0m\u001b[0;34m\u001b[0m\u001b[0;34m\u001b[0m\u001b[0m\n\u001b[0;32m----> 8\u001b[0;31m \u001b[0mx\u001b[0m \u001b[0;34m=\u001b[0m \u001b[0mstudent_scores\u001b[0m\u001b[0;34m.\u001b[0m\u001b[0miloc\u001b[0m\u001b[0;34m[\u001b[0m\u001b[0;34m:\u001b[0m\u001b[0;34m,\u001b[0m\u001b[0;36m0\u001b[0m\u001b[0;34m:\u001b[0m\u001b[0;34m-\u001b[0m\u001b[0;36m1\u001b[0m\u001b[0;34m]\u001b[0m\u001b[0;34m.\u001b[0m\u001b[0mvalues\u001b[0m  \u001b[0;31m# We want all the rows \":\" and all the columns, \"-1\" stands for to the end, \":\" we want all our rows\u001b[0m\u001b[0;34m\u001b[0m\u001b[0;34m\u001b[0m\u001b[0m\n\u001b[0m\u001b[1;32m      9\u001b[0m \u001b[0my\u001b[0m \u001b[0;34m=\u001b[0m \u001b[0mstudent_scores\u001b[0m\u001b[0;34m.\u001b[0m\u001b[0miloc\u001b[0m\u001b[0;34m[\u001b[0m\u001b[0;34m:\u001b[0m\u001b[0;34m,\u001b[0m \u001b[0;36m1\u001b[0m\u001b[0;34m]\u001b[0m\u001b[0;34m.\u001b[0m\u001b[0mvalues\u001b[0m    \u001b[0;31m# We want all the rows \":\" and just the second column as our (y axis = dependent variable = scores)\u001b[0m\u001b[0;34m\u001b[0m\u001b[0;34m\u001b[0m\u001b[0m\n\u001b[1;32m     10\u001b[0m \u001b[0mx\u001b[0m\u001b[0;34m\u001b[0m\u001b[0;34m\u001b[0m\u001b[0m\n",
            "\u001b[0;31mNameError\u001b[0m: name 'student_scores' is not defined"
          ]
        }
      ]
    },
    {
      "cell_type": "code",
      "metadata": {
        "id": "0p3tHLUHpiiG",
        "colab_type": "code",
        "colab": {}
      },
      "source": [
        "# Split the dataset into the training set and test set\n",
        "# We're splitting the data for training and testing\n",
        "# 75% of it wil be for training and 25% will be for testing for accuracy\n",
        "# xtrain: this will be your training group\n",
        "# xtest:  this will be your test model\n",
        "# ytrain: this will be your target for your training group\n",
        "# ytest:  as you can imagine, this will be your target for your test group\n",
        "\n",
        "# Use-Case Overfitting vs. underfitting?: Hiring at grocery store vs. only People graduated from Haward and living nearby (underfitting) \n",
        "xtrain, xtest, ytrain, ytest = train_test_split(x, y, train_size=0.75, test_size=0.25, random_state=0, shuffle=True)  #random_state=0 sets the seed for the random generator, shuffle=True allows to replicate the results in the same way every time, gives higher accuracy, False keeps the numbers in order\n",
        "# shuffle rearrangement of elments in an ordered list / shuffle=true keeps unordered / false keeps them ordered"
      ],
      "execution_count": 0,
      "outputs": []
    },
    {
      "cell_type": "code",
      "metadata": {
        "id": "6K025a_pqn0c",
        "colab_type": "code",
        "outputId": "88f6056d-2565-4ab1-f20e-559ca2066215",
        "colab": {
          "base_uri": "https://localhost:8080/",
          "height": 34
        }
      },
      "source": [
        "# These codes train our algorithm for Linear Regression and Machine Learning\n",
        "reg = LinearRegression()\n",
        "reg.fit(xtrain, ytrain)\n",
        "LinearRegression(copy_X=True, fit_intercept=True, n_jobs=None, normalize=False)"
      ],
      "execution_count": 0,
      "outputs": [
        {
          "output_type": "execute_result",
          "data": {
            "text/plain": [
              "LinearRegression(copy_X=True, fit_intercept=True, n_jobs=None, normalize=False)"
            ]
          },
          "metadata": {
            "tags": []
          },
          "execution_count": 19
        }
      ]
    },
    {
      "cell_type": "code",
      "metadata": {
        "id": "KR35elwButhN",
        "colab_type": "code",
        "outputId": "c33f73ee-7cdc-4929-f005-d5836514038c",
        "colab": {
          "base_uri": "https://localhost:8080/",
          "height": 34
        }
      },
      "source": [
        "# We want to see the intercept\n",
        "# My intercept may be different because I have a different training size\n",
        "print(reg.intercept_)"
      ],
      "execution_count": 0,
      "outputs": [
        {
          "output_type": "stream",
          "text": [
            "1.9322042531516601\n"
          ],
          "name": "stdout"
        }
      ]
    },
    {
      "cell_type": "code",
      "metadata": {
        "id": "gCgtIev3vFzz",
        "colab_type": "code",
        "outputId": "8c583e75-cd13-4762-fe10-0bf62451efc8",
        "colab": {
          "base_uri": "https://localhost:8080/",
          "height": 34
        }
      },
      "source": [
        "# That one more hour of study can increase chances of a higher score by 9.91%\n",
        "# My coeficients maybe different because I have different training sizes\n",
        "print(reg.coef_) #number relative to what the dataset is"
      ],
      "execution_count": 0,
      "outputs": [
        {
          "output_type": "stream",
          "text": [
            "[9.94167834]\n"
          ],
          "name": "stdout"
        }
      ]
    },
    {
      "cell_type": "code",
      "metadata": {
        "id": "dvTAEAGQvT4D",
        "colab_type": "code",
        "colab": {}
      },
      "source": [
        "# We will use our test data and see how accurately our algorithm predicts the percentage score\n",
        "# to make predictions on the test data\n",
        "yprediction = reg.predict(xtest)"
      ],
      "execution_count": 0,
      "outputs": []
    },
    {
      "cell_type": "code",
      "metadata": {
        "id": "UEwwTaFMvtPu",
        "colab_type": "code",
        "colab": {}
      },
      "source": [
        "# This shows us the actual value of the test scores compared to the predicted values\n",
        "# Not too bad but could use tome thighetning up\n",
        "student_scores2 = pd.DataFrame({'Actual': ytest, 'Predicted': yprediction})"
      ],
      "execution_count": 0,
      "outputs": []
    },
    {
      "cell_type": "code",
      "metadata": {
        "id": "lQ0-vClnwNtI",
        "colab_type": "code",
        "outputId": "2d9fcca3-bdb8-4a86-804a-ea70886fe251",
        "colab": {
          "base_uri": "https://localhost:8080/",
          "height": 70
        }
      },
      "source": [
        "from sklearn import metrics\n",
        "#The Root Mean Squared is 4.5, which is less than 10% of the mean value of the percentages of all the students (51.48)\n",
        "#This means that our algorithm did a okay job\n",
        "print('Mean Absolute Error:', metrics.mean_absolute_error(ytest, yprediction))  # the absolute value of the errors\n",
        "print('Mean Squared Error:', metrics.mean_squared_error(ytest, yprediction))    # mean squared error (MSE) is the mean of the squared errors\n",
        "print('Root Mean Squared Error:', np.sqrt(metrics.mean_squared_error(ytest, yprediction)))  #square root of the mean of the squared errors"
      ],
      "execution_count": 0,
      "outputs": [
        {
          "output_type": "stream",
          "text": [
            "Mean Absolute Error: 4.130879918502482\n",
            "Mean Squared Error: 20.33292367497996\n",
            "Root Mean Squared Error: 4.509204328368805\n"
          ],
          "name": "stdout"
        }
      ]
    },
    {
      "cell_type": "code",
      "metadata": {
        "id": "yxNaWCUYYu6n",
        "colab_type": "code",
        "outputId": "e36e6c1a-9058-40e2-f717-0743bea99e5b",
        "colab": {
          "base_uri": "https://localhost:8080/",
          "height": 295
        }
      },
      "source": [
        "#Test Set\n",
        "plt.scatter(xtrain, ytrain, color='red')\n",
        "plt.plot(xtest, reg.predict(xtest) , color='blue')\n",
        "plt.title('Hours studied vs. percentage score (training set)')\n",
        "plt.xlabel('Hours studied')\n",
        "plt.ylabel('Percentage Score')\n",
        "plt.show()"
      ],
      "execution_count": 0,
      "outputs": [
        {
          "output_type": "display_data",
          "data": {
            "image/png": "[encoded data removed]",
            "text/plain": [
              "<Figure size 432x288 with 1 Axes>"
            ]
          },
          "metadata": {
            "tags": [],
            "needs_background": "light"
          }
        }
      ]
    },
    {
      "cell_type": "code",
      "metadata": {
        "id": "S509STGIxK8W",
        "colab_type": "code",
        "outputId": "635a769b-bc7c-40eb-fcd1-ec5d54a4ccad",
        "colab": {
          "base_uri": "https://localhost:8080/",
          "height": 295
        }
      },
      "source": [
        "#Training Set\n",
        "#Cross-validation manual: https://towardsdatascience.com/train-test-split-and-cross-validation-in-python-80b61beca4b6\n",
        "plt.scatter(xtrain, ytrain, color='red')\n",
        "plt.plot(xtrain, reg.predict(xtrain), color='blue')\n",
        "plt.title('Hours studied vs. percentage score (training set)')\n",
        "plt.xlabel('Hours studied')\n",
        "plt.ylabel('Percentage Score')\n",
        "plt.show()"
      ],
      "execution_count": 0,
      "outputs": [
        {
          "output_type": "display_data",
          "data": {
            "image/png": "[encoded data removed]",
            "text/plain": [
              "<Figure size 432x288 with 1 Axes>"
            ]
          },
          "metadata": {
            "tags": [],
            "needs_background": "light"
          }
        }
      ]
    }
  ]
}